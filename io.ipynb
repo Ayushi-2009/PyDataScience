{
 "cells": [
  {
   "cell_type": "markdown",
   "metadata": {},
   "source": [
    "# Python datatypes\n",
    "- int       |   1 10 -20               |   integers\n",
    "- float     |   .2 1.3 -2.3 1.SeI0     |    float\n",
    "- bool      |   True, False            |    Boolean \n",
    "- str       |   \"Hello\" \"World\"        |    String\n",
    "- Nonetype  |   None                   |    No value\n",
    "- list      | [1,2,3]                  |  similar to array\n",
    "- tuple     |  (1,2,3)                 |    similar to array\n",
    "- set       |   {1,2,3}                | similar to array\n",
    "- dict      | {\"a\" : 'apple'}          | similar to hashmaps"
   ]
  },
  {
   "cell_type": "code",
   "execution_count": 3,
   "metadata": {},
   "outputs": [
    {
     "name": "stdout",
     "output_type": "stream",
     "text": [
      "once upon a time\n",
      "There was a monkey\n",
      "sitting on tree\n",
      "to be contiued\n"
     ]
    }
   ],
   "source": [
    "print(\"once upon a time\")\n",
    "print(\"There was a monkey\")\n",
    "print(\"sitting on tree\")\n",
    "print(\"to be contiued\")"
   ]
  },
  {
   "cell_type": "code",
   "execution_count": 4,
   "metadata": {},
   "outputs": [
    {
     "name": "stdout",
     "output_type": "stream",
     "text": [
      "10 20 200\n",
      "10 * 20 = 200\n"
     ]
    }
   ],
   "source": [
    "a = 10\n",
    "b = 20\n",
    "c = a*b\n",
    "print(a,b,c)\n",
    "print(a, \"*\" ,b,\"=\",c)"
   ]
  },
  {
   "cell_type": "code",
   "execution_count": 2,
   "metadata": {},
   "outputs": [
    {
     "name": "stdout",
     "output_type": "stream",
     "text": [
      "name:  Sara\n",
      "age:  25\n",
      "job :  SDE1\n"
     ]
    }
   ],
   "source": [
    "name = 'Sara'\n",
    "age = 25\n",
    "job = \"SDE1\"\n",
    "print(\"name: \", name)\n",
    "print(\"age: \", age)\n",
    "print(\"job : \" ,job)  "
   ]
  },
  {
   "cell_type": "markdown",
   "metadata": {},
   "source": [
    "f-strings (python>=3.6)\n",
    "formattable string"
   ]
  },
  {
   "cell_type": "code",
   "execution_count": 14,
   "metadata": {},
   "outputs": [
    {
     "name": "stdout",
     "output_type": "stream",
     "text": [
      "Simple Interest Calculator\n",
      "😇😇😇😇😇😇😇😇😇😇\n",
      "Principal = 120000, rate = 2.5,time=10,simple interest=30000.0\n",
      "principle = 120000\n",
      "rate = 2.5\n",
      "time = 10\n",
      "simple interest = 30000.0\n"
     ]
    }
   ],
   "source": [
    "p = 120000\n",
    "r = 2.5\n",
    "t = 10\n",
    "si = p*r*t/100\n",
    "#print(p*r*t/100)\n",
    "#print(SI)\n",
    "print(\"Simple Interest Calculator\")\n",
    "print(\"😇\" * 10)\n",
    "print(f\"Principal = {p}, rate = {r},time={t},simple interest={si}\")\n",
    "print(f'principle = {p}')\n",
    "print(f'rate = {r}')\n",
    "print(f'time = {t}')\n",
    "print(f'simple interest = {si}')"
   ]
  },
  {
   "cell_type": "code",
   "execution_count": 49,
   "metadata": {},
   "outputs": [
    {
     "name": "stdout",
     "output_type": "stream",
     "text": [
      "Simple Interest Calculator\n",
      "_ __ __ __ __ __ __ __ __ __ __ __ __ __ __ __ __ __ __ __ __ __ __ __ __ _\n",
      "principle                          120.0K\n",
      "rate                                 2.5%\n",
      "time                                10yrs\n",
      "_ __ __ __ __ __ __ __ __ __ __ __ __ __ __ __ __ __ __ __ __ __ __ __ __ _\n",
      "simple interest =                   30.0K\n",
      "_ __ __ __ __ __ __ __ __ __ __ __ __ __ __ __ __ __ __ __ __ __ __ __ __ _\n"
     ]
    }
   ],
   "source": [
    "p = 120000\n",
    "r = 2.5\n",
    "t = 10\n",
    "si = p*r*t/100\n",
    "#print(p*r*t/100)\n",
    "#print(SI)\n",
    "print(\"Simple Interest Calculator\")\n",
    "print(\"_ _\"*25)\n",
    "print(f'principle {p/1000:30}K')\n",
    "print(f'rate  {r:34}%')\n",
    "print(f'time  {t:32}yrs')\n",
    "print(\"_ _\"*25)\n",
    "print(f'simple interest = {si/1000:22}K')\n",
    "print(\"_ _\"*25)"
   ]
  },
  {
   "cell_type": "code",
   "execution_count": 50,
   "metadata": {},
   "outputs": [
    {
     "name": "stdout",
     "output_type": "stream",
     "text": [
      "Kungfu Panda\n",
      "You may like it but i don't care\n"
     ]
    }
   ],
   "source": [
    "fav_movie = input(\"Plz enter your favourite movie\")\n",
    "print(fav_movie)\n",
    "print(\"You may like it but i don't care\")"
   ]
  },
  {
   "cell_type": "code",
   "execution_count": 53,
   "metadata": {},
   "outputs": [
    {
     "name": "stdout",
     "output_type": "stream",
     "text": [
      "result is\n",
      "10\n"
     ]
    }
   ],
   "source": [
    "a = input(\"enter a number\")\n",
    "b = input(\"enter another number\")\n",
    "print(\"result is\")\n",
    "print(int(a)+int(b))"
   ]
  },
  {
   "cell_type": "code",
   "execution_count": 54,
   "metadata": {},
   "outputs": [
    {
     "name": "stdout",
     "output_type": "stream",
     "text": [
      "result is\n",
      "9\n"
     ]
    }
   ],
   "source": [
    "a = int(input(\"enter a number\"))\n",
    "b = int(input(\"enter another number\"))\n",
    "print(\"result is\")\n",
    "print((a)+(b))"
   ]
  }
 ],
 "metadata": {
  "kernelspec": {
   "display_name": "base",
   "language": "python",
   "name": "python3"
  },
  "language_info": {
   "codemirror_mode": {
    "name": "ipython",
    "version": 3
   },
   "file_extension": ".py",
   "mimetype": "text/x-python",
   "name": "python",
   "nbconvert_exporter": "python",
   "pygments_lexer": "ipython3",
   "version": "3.12.4"
  }
 },
 "nbformat": 4,
 "nbformat_minor": 2
}
