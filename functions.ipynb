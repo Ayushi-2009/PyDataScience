{
 "cells": [
  {
   "cell_type": "markdown",
   "metadata": {},
   "source": [
    "# functions in python\n",
    "- predefined functions\n",
    "- built-in functions\n",
    "    - print(),input(),len(),type(),int(),sum()\n",
    "- modules based functions\n",
    "    - local modules\n",
    "     - math\n",
    "     - dataset\n",
    "     - os\n",
    "     - turtle\n",
    "     - random\n",
    "    - 3rd party modules\n",
    "     - numpy\n",
    "     - pamdas\n",
    "     - matplotlib\n",
    "     - dputils\n",
    "- user defined functions\n",
    "    - function with return values\n",
    "    - non-parameterized functions\n",
    "        - required parameters/named parameters\n",
    "        - default parameters\n",
    "        - variables args\n",
    "        - keyvalue variables args\n",
    "        - map and filter"
   ]
  },
  {
   "cell_type": "markdown",
   "metadata": {},
   "source": [
    "# Module based Functions"
   ]
  },
  {
   "cell_type": "code",
   "execution_count": 58,
   "metadata": {},
   "outputs": [],
   "source": [
    "import math"
   ]
  },
  {
   "cell_type": "code",
   "execution_count": 59,
   "metadata": {},
   "outputs": [
    {
     "data": {
      "text/plain": [
       "93326215443944152681699238856266700490715968264381621468592963895217599993229915608941463976156518286253697920827223758251185210916864000000000000000000000000"
      ]
     },
     "execution_count": 59,
     "metadata": {},
     "output_type": "execute_result"
    }
   ],
   "source": [
    "math.factorial(100)"
   ]
  },
  {
   "cell_type": "code",
   "execution_count": 60,
   "metadata": {},
   "outputs": [
    {
     "data": {
      "text/plain": [
       "-0.5440211108893698"
      ]
     },
     "execution_count": 60,
     "metadata": {},
     "output_type": "execute_result"
    }
   ],
   "source": [
    "math.sin(10)"
   ]
  },
  {
   "cell_type": "code",
   "execution_count": 61,
   "metadata": {},
   "outputs": [
    {
     "data": {
      "text/plain": [
       "3"
      ]
     },
     "execution_count": 61,
     "metadata": {},
     "output_type": "execute_result"
    }
   ],
   "source": [
    "math.floor(3.12930012309123)"
   ]
  },
  {
   "cell_type": "code",
   "execution_count": 62,
   "metadata": {},
   "outputs": [
    {
     "data": {
      "text/plain": [
       "4"
      ]
     },
     "execution_count": 62,
     "metadata": {},
     "output_type": "execute_result"
    }
   ],
   "source": [
    "math.ceil(3.129)"
   ]
  },
  {
   "cell_type": "code",
   "execution_count": 63,
   "metadata": {},
   "outputs": [
    {
     "data": {
      "text/plain": [
       "3.129"
      ]
     },
     "execution_count": 63,
     "metadata": {},
     "output_type": "execute_result"
    }
   ],
   "source": [
    "math.fabs(-3.129)"
   ]
  },
  {
   "cell_type": "code",
   "execution_count": 64,
   "metadata": {},
   "outputs": [],
   "source": [
    "from random import choice, randint"
   ]
  },
  {
   "cell_type": "code",
   "execution_count": 65,
   "metadata": {},
   "outputs": [
    {
     "name": "stdout",
     "output_type": "stream",
     "text": [
      "\u001b[0;31mSignature:\u001b[0m \u001b[0mchoice\u001b[0m\u001b[0;34m(\u001b[0m\u001b[0mseq\u001b[0m\u001b[0;34m)\u001b[0m\u001b[0;34m\u001b[0m\u001b[0;34m\u001b[0m\u001b[0m\n",
      "\u001b[0;31mDocstring:\u001b[0m Choose a random element from a non-empty sequence.\n",
      "\u001b[0;31mFile:\u001b[0m      /opt/miniconda3/lib/python3.12/random.py\n",
      "\u001b[0;31mType:\u001b[0m      method"
     ]
    }
   ],
   "source": [
    "choice?"
   ]
  },
  {
   "cell_type": "code",
   "execution_count": 66,
   "metadata": {},
   "outputs": [
    {
     "name": "stdout",
     "output_type": "stream",
     "text": [
      "['🐒', '🐥', '🦆', '🦄', '🦋', '🦖']\n",
      "Your emoji is: \n",
      "🦋\n"
     ]
    }
   ],
   "source": [
    "data = ['🐒','🐥','🦆','🦄','🦋','🦖']\n",
    "print(data)\n",
    "print(\"Your emoji is: \")\n",
    "print(choice(data))"
   ]
  },
  {
   "cell_type": "code",
   "execution_count": 67,
   "metadata": {},
   "outputs": [
    {
     "name": "stdout",
     "output_type": "stream",
     "text": [
      "3\n"
     ]
    }
   ],
   "source": [
    "print(randint(1,6))"
   ]
  },
  {
   "cell_type": "code",
   "execution_count": 68,
   "metadata": {},
   "outputs": [
    {
     "name": "stdout",
     "output_type": "stream",
     "text": [
      "🦋 🐒 🦄 🐥 🦆\n",
      "🦆 🦋 🦄 🐥 🦖 🦄 🐒 🦄 🦄 🐒\n"
     ]
    }
   ],
   "source": [
    "from random import sample, choices\n",
    "out = sample(data,5)\n",
    "print(*out) # * here is a trick to unpack the list\n",
    "out2 = choices(data, k= 10)\n",
    "print(*out2)"
   ]
  },
  {
   "cell_type": "code",
   "execution_count": 69,
   "metadata": {},
   "outputs": [],
   "source": [
    "from datetime import datetime"
   ]
  },
  {
   "cell_type": "code",
   "execution_count": 70,
   "metadata": {},
   "outputs": [
    {
     "name": "stdout",
     "output_type": "stream",
     "text": [
      "2024-07-27 11:10:07.330242\n"
     ]
    }
   ],
   "source": [
    "print(datetime.now())"
   ]
  },
  {
   "cell_type": "code",
   "execution_count": 71,
   "metadata": {},
   "outputs": [
    {
     "name": "stdout",
     "output_type": "stream",
     "text": [
      "2024-07-27\n",
      "11:10:07.334441\n",
      "2024-07-27 11:10:07.334463\n",
      "27/07/2024\n"
     ]
    }
   ],
   "source": [
    "# date\n",
    "date = datetime.date(datetime.now())\n",
    "print(date)\n",
    "time = datetime.time(datetime.now())\n",
    "print(time)\n",
    "now = datetime.now()\n",
    "print(now)\n",
    "formatted = now.strftime(\"%d/%m/%Y\")\n",
    "print(formatted)"
   ]
  },
  {
   "cell_type": "code",
   "execution_count": 72,
   "metadata": {},
   "outputs": [],
   "source": [
    "import os"
   ]
  },
  {
   "cell_type": "code",
   "execution_count": 73,
   "metadata": {},
   "outputs": [
    {
     "name": "stdout",
     "output_type": "stream",
     "text": [
      "current location\n",
      "/Users/ayushibhasker/Documents/PyDataScience\n"
     ]
    }
   ],
   "source": [
    "print(\"current location\")\n",
    "print(os.getcwd())"
   ]
  },
  {
   "cell_type": "code",
   "execution_count": 76,
   "metadata": {},
   "outputs": [
    {
     "name": "stdout",
     "output_type": "stream",
     "text": [
      "list all files\n",
      " 😇basics.ipynb\n",
      " 😇conditions.ipynb\n",
      " 😇strings_practice.ipynb\n",
      " 😇patterns.py\n",
      " 😇sets.ipynb\n",
      " 😇list.ipynb\n",
      " 😇io.ipynb\n",
      " 😇dictionary.ipynb\n",
      " 😇practice.py\n",
      " 😇dicitonary_practice.ipynb\n",
      " 😇string.ipynb\n",
      " 😇pattern2.py\n",
      " 😇loops.ipynb\n",
      " 😇functions.ipynb\n",
      " 😇.git\n"
     ]
    }
   ],
   "source": [
    "print(\"list all files\")\n",
    "content = os.listdir()\n",
    "for items in content:\n",
    "    print(f\" 😇{items}\")"
   ]
  },
  {
   "cell_type": "code",
   "execution_count": 100,
   "metadata": {},
   "outputs": [
    {
     "name": "stdout",
     "output_type": "stream",
     "text": [
      "🤖 .git\n",
      "🤖 .git\n",
      "🤖 .git\n"
     ]
    }
   ],
   "source": [
    "content = os.listdir(\"/Users/\")\n",
    "for item in content:\n",
    "    path = f'/Users/ayushibhasker/{items}'\n",
    "    is_file = os.path.isfile(path)\n",
    "    if is_file:\n",
    "        print(f\"🤪 {items}\")\n",
    "    else:\n",
    "        print(f\"🤖 {items}\")"
   ]
  },
  {
   "cell_type": "code",
   "execution_count": 92,
   "metadata": {},
   "outputs": [
    {
     "name": "stdout",
     "output_type": "stream",
     "text": [
      "🗂️ .localized\n",
      "🗂️ ayushibhasker\n",
      "🗂️ Shared\n"
     ]
    }
   ],
   "source": [
    "content = os.listdir(\"/Users\")\n",
    "for item in content:\n",
    "    path = f\"/Users/ayushibhasker/documents/{items}\"\n",
    "    is_file = os.path.isfile(path)\n",
    "    if is_file:\n",
    "        print(f\"📄 {item}\")\n",
    "    else:\n",
    "        print(f\"🗂️ {item}\")"
   ]
  },
  {
   "cell_type": "code",
   "execution_count": 93,
   "metadata": {},
   "outputs": [],
   "source": [
    "os.makedirs(\"a/b/c\", exist_ok = True)"
   ]
  },
  {
   "cell_type": "markdown",
   "metadata": {},
   "source": [
    "# User defined functions\n",
    "### stage 1: define a function\n",
    "''' python\n",
    "\n",
    "def fun_name([params....]):\n",
    "\n",
    "    statements\n",
    "\n",
    "    ...\n",
    "    [return value]\n",
    "\n",
    "### stage 2 : call the function (use)\n",
    "\n",
    "fun_name([args...])"
   ]
  },
  {
   "cell_type": "code",
   "execution_count": 101,
   "metadata": {},
   "outputs": [],
   "source": [
    "def adder():\n",
    "    a = 120\n",
    "    b = 130\n",
    "    total = a + b\n",
    "    print(total)"
   ]
  },
  {
   "cell_type": "code",
   "execution_count": 106,
   "metadata": {},
   "outputs": [
    {
     "data": {
      "text/plain": [
       "<function __main__.adder()>"
      ]
     },
     "execution_count": 106,
     "metadata": {},
     "output_type": "execute_result"
    }
   ],
   "source": [
    "adder"
   ]
  },
  {
   "cell_type": "code",
   "execution_count": 107,
   "metadata": {},
   "outputs": [
    {
     "name": "stdout",
     "output_type": "stream",
     "text": [
      "250\n"
     ]
    }
   ],
   "source": [
    "adder()"
   ]
  },
  {
   "cell_type": "code",
   "execution_count": 108,
   "metadata": {},
   "outputs": [],
   "source": [
    "def adder():\n",
    "    a = int(input(\"Enter a number : \"))\n",
    "    b = int(input(\"Enter another number: \"))\n",
    "    total = a + b\n",
    "    print(total)"
   ]
  },
  {
   "cell_type": "code",
   "execution_count": 109,
   "metadata": {},
   "outputs": [
    {
     "name": "stdout",
     "output_type": "stream",
     "text": [
      "112\n"
     ]
    }
   ],
   "source": [
    "adder()"
   ]
  },
  {
   "cell_type": "code",
   "execution_count": 110,
   "metadata": {},
   "outputs": [],
   "source": [
    "def adder(a,b):\n",
    "    total = a + b\n",
    "    print(total)"
   ]
  },
  {
   "cell_type": "code",
   "execution_count": 112,
   "metadata": {},
   "outputs": [
    {
     "name": "stdout",
     "output_type": "stream",
     "text": [
      "5\n"
     ]
    }
   ],
   "source": [
    "adder(3,2)"
   ]
  },
  {
   "cell_type": "code",
   "execution_count": 114,
   "metadata": {},
   "outputs": [
    {
     "name": "stdout",
     "output_type": "stream",
     "text": [
      "3698\n"
     ]
    }
   ],
   "source": [
    "x = 1299\n",
    "y = 2399\n",
    "adder(x,y)"
   ]
  },
  {
   "cell_type": "code",
   "execution_count": 134,
   "metadata": {},
   "outputs": [],
   "source": [
    "def simple_interest(P,R,T):\n",
    "    si = P*R*T/100\n",
    "    print(f\"Simple interest = {si}\")\n",
    "    Total_amt = si+P\n",
    "    print(f\"Total amount = {Total_amt}\")"
   ]
  },
  {
   "cell_type": "code",
   "execution_count": 133,
   "metadata": {},
   "outputs": [
    {
     "name": "stdout",
     "output_type": "stream",
     "text": [
      "Simple interest = 68.0\n",
      " Total amount = 1068.0\n"
     ]
    }
   ],
   "source": [
    "simple_interest(1000,2,3.4)"
   ]
  },
  {
   "cell_type": "code",
   "execution_count": 136,
   "metadata": {},
   "outputs": [
    {
     "name": "stdout",
     "output_type": "stream",
     "text": [
      "804.247719318987\n"
     ]
    }
   ],
   "source": [
    "#Area of sphere\n",
    "def sphere_area(r):\n",
    "    area = 4 * math.pi * r ** 2\n",
    "    print(area)\n",
    "sphere_area(8)"
   ]
  },
  {
   "cell_type": "code",
   "execution_count": 138,
   "metadata": {},
   "outputs": [
    {
     "data": {
      "text/plain": [
       "9"
      ]
     },
     "execution_count": 138,
     "metadata": {},
     "output_type": "execute_result"
    }
   ],
   "source": [
    "def adder(a,b):\n",
    "    total = a + b\n",
    "    return total\n",
    "adder(4,5)"
   ]
  },
  {
   "cell_type": "code",
   "execution_count": 139,
   "metadata": {},
   "outputs": [
    {
     "data": {
      "text/plain": [
       "804.247719318987"
      ]
     },
     "execution_count": 139,
     "metadata": {},
     "output_type": "execute_result"
    }
   ],
   "source": [
    "#Area of sphere\n",
    "def sphere_area(r):\n",
    "    area = 4 * math.pi * r ** 2\n",
    "    return area\n",
    "sphere_area(8)"
   ]
  },
  {
   "cell_type": "code",
   "execution_count": 143,
   "metadata": {},
   "outputs": [
    {
     "name": "stdout",
     "output_type": "stream",
     "text": [
      "10\n",
      "1256.6370614359173\n"
     ]
    }
   ],
   "source": [
    "ans = adder(5,5)\n",
    "print(ans)\n",
    "result = sphere_area(ans)\n",
    "print(result)"
   ]
  },
  {
   "cell_type": "code",
   "execution_count": 148,
   "metadata": {},
   "outputs": [
    {
     "data": {
      "text/plain": [
       "5"
      ]
     },
     "execution_count": 148,
     "metadata": {},
     "output_type": "execute_result"
    }
   ],
   "source": [
    "# waf to count the number of words in a sentence\n",
    "def count_words(sentence):\n",
    "    return len(sentence.split())\n",
    "\n",
    "count_words(\"Hello my name is Ayushi\")"
   ]
  },
  {
   "cell_type": "code",
   "execution_count": 147,
   "metadata": {},
   "outputs": [
    {
     "name": "stdout",
     "output_type": "stream",
     "text": [
      "total words: 8\n"
     ]
    }
   ],
   "source": [
    "sentence = \"this is a long sentence with many words,okay?\"\n",
    "size = count_words(sentence)\n",
    "print(f'total words: {size}')"
   ]
  }
 ],
 "metadata": {
  "kernelspec": {
   "display_name": "base",
   "language": "python",
   "name": "python3"
  },
  "language_info": {
   "codemirror_mode": {
    "name": "ipython",
    "version": 3
   },
   "file_extension": ".py",
   "mimetype": "text/x-python",
   "name": "python",
   "nbconvert_exporter": "python",
   "pygments_lexer": "ipython3",
   "version": "3.12.4"
  }
 },
 "nbformat": 4,
 "nbformat_minor": 2
}
