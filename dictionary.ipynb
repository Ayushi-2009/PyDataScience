{
 "cells": [
  {
   "cell_type": "markdown",
   "metadata": {},
   "source": [
    "# Key Value\n",
    "# Dictonary\n",
    "- how to declare it\n",
    "- how to access key and values of a dictionary\n",
    "- how to use loops in dictionary"
   ]
  },
  {
   "cell_type": "code",
   "execution_count": 10,
   "metadata": {},
   "outputs": [
    {
     "name": "stdout",
     "output_type": "stream",
     "text": [
      "{'name': 'Ayushi', 'class': '10th', 'roll': 20, 'age': 20}\n"
     ]
    }
   ],
   "source": [
    "student = {\n",
    "    \"name\" : \"Ayushi\",\n",
    "    \"class\" : \"10th\",\n",
    "    \"roll\" : 20,\n",
    "    \"age\" : 20\n",
    "}\n",
    "print(student)"
   ]
  },
  {
   "cell_type": "code",
   "execution_count": 11,
   "metadata": {},
   "outputs": [
    {
     "name": "stdout",
     "output_type": "stream",
     "text": [
      "{'lucknow': [25, 30, 35], 'delhi': [30, 35, 40], 'chennai': [22, 23, 24]}\n"
     ]
    }
   ],
   "source": [
    "temp = {\n",
    "    'lucknow' : [25,30,35],\n",
    "    'delhi' : [30,35,40],\n",
    "    'chennai' : [22,23,24]\n",
    "}\n",
    "print(temp)"
   ]
  },
  {
   "cell_type": "code",
   "execution_count": 12,
   "metadata": {},
   "outputs": [
    {
     "name": "stdout",
     "output_type": "stream",
     "text": [
      "{'name': 'riya', 'age': 27, 'dept': 'hr', 'salary': 30000}\n"
     ]
    }
   ],
   "source": [
    "info = dict(name = 'riya',age = 27,dept = 'hr',salary = 30000)\n",
    "print(info)"
   ]
  },
  {
   "cell_type": "code",
   "execution_count": 18,
   "metadata": {},
   "outputs": [
    {
     "name": "stdout",
     "output_type": "stream",
     "text": [
      "{'name': 'Ayushi', 'class': '10th', 'roll': 20, 'age': 20}\n"
     ]
    }
   ],
   "source": [
    "student = {\n",
    "    \"name\" : \"Ayushi\",\n",
    "    \"class\" : \"10th\",\n",
    "    \"roll\" : 20,\n",
    "    \"age\" : 20\n",
    "}\n",
    "print(student)"
   ]
  },
  {
   "cell_type": "code",
   "execution_count": 19,
   "metadata": {},
   "outputs": [
    {
     "name": "stdout",
     "output_type": "stream",
     "text": [
      "Ayushi\n",
      "20\n"
     ]
    }
   ],
   "source": [
    "#1st method\n",
    "print(student['name'])\n",
    "print(student['roll'])"
   ]
  },
  {
   "cell_type": "code",
   "execution_count": 17,
   "metadata": {},
   "outputs": [
    {
     "name": "stdout",
     "output_type": "stream",
     "text": [
      "Ayushi\n",
      "20\n"
     ]
    }
   ],
   "source": [
    "#2nd Method\n",
    "print(student.get('name'))\n",
    "print(student.get('age'))"
   ]
  },
  {
   "cell_type": "code",
   "execution_count": 22,
   "metadata": {},
   "outputs": [
    {
     "name": "stdout",
     "output_type": "stream",
     "text": [
      "{'name': 'Ayushi', 'class': '10th', 'roll': 20, 'age': 20, 'school': 'DPS', 'city': 'Lucknow'}\n"
     ]
    }
   ],
   "source": [
    "#to add items in dictionary\n",
    "student['school'] = 'DPS'\n",
    "student['city'] = 'Lucknow'\n",
    "print(student)"
   ]
  },
  {
   "cell_type": "code",
   "execution_count": 23,
   "metadata": {},
   "outputs": [
    {
     "name": "stdout",
     "output_type": "stream",
     "text": [
      "name\n",
      "class\n",
      "roll\n",
      "age\n",
      "school\n",
      "city\n"
     ]
    }
   ],
   "source": [
    "for x in student:\n",
    "    print(x)"
   ]
  },
  {
   "cell_type": "code",
   "execution_count": 26,
   "metadata": {},
   "outputs": [
    {
     "name": "stdout",
     "output_type": "stream",
     "text": [
      "name : Ayushi\n",
      "class : 10th\n",
      "roll : 20\n",
      "age : 20\n",
      "school : DPS\n",
      "city : Lucknow\n"
     ]
    }
   ],
   "source": [
    "for k,v in student.items():\n",
    "    print(f'{k} : {v}')"
   ]
  },
  {
   "cell_type": "code",
   "execution_count": 29,
   "metadata": {},
   "outputs": [
    {
     "name": "stdout",
     "output_type": "stream",
     "text": [
      "dict_keys(['name', 'class', 'roll', 'age', 'school', 'city'])\n",
      "dict_values(['Ayushi', '10th', 20, 20, 'DPS', 'Lucknow'])\n",
      "dict_items([('name', 'Ayushi'), ('class', '10th'), ('roll', 20), ('age', 20), ('school', 'DPS'), ('city', 'Lucknow')])\n"
     ]
    }
   ],
   "source": [
    "print(student.keys())\n",
    "print(student.values())\n",
    "print(student.items())"
   ]
  },
  {
   "cell_type": "code",
   "execution_count": 35,
   "metadata": {},
   "outputs": [
    {
     "name": "stdout",
     "output_type": "stream",
     "text": [
      "{'emp001': {'name': 'John', 'age': 27, 'dept': 'HR', 'salary': 30000}, 'emp002': {'name': 'Mike', 'age': 32, 'dept': 'IT', 'salary': 40000}, 'emp003': {'name': 'Steve', 'age': 35, 'dept': 'Finance', 'salary': 50000}}\n"
     ]
    }
   ],
   "source": [
    "#nested dictionary\n",
    "company = {\n",
    "    'emp001' : {\n",
    "        'name' : 'John',\n",
    "        'age' : 27,\n",
    "        'dept' : 'HR',\n",
    "        'salary' : 30000\n",
    "    },\n",
    "    'emp002' : {\n",
    "        'name' : 'Mike',\n",
    "        'age' : 32,\n",
    "        'dept' : 'IT',\n",
    "        'salary' : 40000\n",
    "    },\n",
    "    'emp003' : {\n",
    "        'name' : 'Steve',\n",
    "        'age' : 35,\n",
    "        'dept' : 'Finance',\n",
    "        'salary' : 50000\n",
    "    }\n",
    "}\n",
    "print(company)"
   ]
  },
  {
   "cell_type": "code",
   "execution_count": 37,
   "metadata": {},
   "outputs": [],
   "source": [
    "from pprint import pp"
   ]
  },
  {
   "cell_type": "code",
   "execution_count": 38,
   "metadata": {},
   "outputs": [
    {
     "name": "stdout",
     "output_type": "stream",
     "text": [
      "{'emp001': {'name': 'John', 'age': 27, 'dept': 'HR', 'salary': 30000},\n",
      " 'emp002': {'name': 'Mike', 'age': 32, 'dept': 'IT', 'salary': 40000},\n",
      " 'emp003': {'name': 'Steve', 'age': 35, 'dept': 'Finance', 'salary': 50000}}\n"
     ]
    }
   ],
   "source": [
    "pp(company)"
   ]
  },
  {
   "cell_type": "code",
   "execution_count": 39,
   "metadata": {},
   "outputs": [
    {
     "name": "stdout",
     "output_type": "stream",
     "text": [
      "HR\n"
     ]
    }
   ],
   "source": [
    "print(company['emp001']['dept'])"
   ]
  },
  {
   "cell_type": "code",
   "execution_count": 40,
   "metadata": {},
   "outputs": [
    {
     "name": "stdout",
     "output_type": "stream",
     "text": [
      "{'emp001': {'name': 'John', 'age': 27, 'dept': 'HR', 'salary': 30000},\n",
      " 'emp002': {'name': 'Mike', 'age': 32, 'dept': 'IT', 'salary': 40000},\n",
      " 'emp003': {'name': 'Steve', 'age': 35, 'dept': 'Finance', 'salary': 50000},\n",
      " 'emp004': {'name': 'Sam', 'age': '25', 'dept': 'Admin', 'salary': 25000}}\n"
     ]
    }
   ],
   "source": [
    "company ['emp004'] = {\n",
    "    'name' :'Sam',\n",
    "    'age' : '25',\n",
    "    'dept' : 'Admin',\n",
    "    'salary' : 25000\n",
    "}\n",
    "pp(company)"
   ]
  },
  {
   "cell_type": "code",
   "execution_count": 43,
   "metadata": {},
   "outputs": [
    {
     "name": "stdout",
     "output_type": "stream",
     "text": [
      "30\n",
      "40\n",
      "22\n"
     ]
    }
   ],
   "source": [
    "print(temp['lucknow'][1])\n",
    "print(temp['delhi'][2])\n",
    "print(temp['chennai'][0])"
   ]
  },
  {
   "cell_type": "code",
   "execution_count": 52,
   "metadata": {},
   "outputs": [
    {
     "name": "stdout",
     "output_type": "stream",
     "text": [
      "Average temperature in Delhi :  35.0\n"
     ]
    }
   ],
   "source": [
    "print('Average temperature in Delhi : ',sum(temp['delhi'])/len(temp['delhi']))\n",
    "#k = sum(temp['delhi'])\n",
    "#print(k/len(temp['delhi']))"
   ]
  },
  {
   "cell_type": "markdown",
   "metadata": {},
   "source": [
    "Alex\n",
    "-> English 85\n",
    "-> Math 90\n",
    "-> Science 78\n",
    "-> Total Marks 253\n",
    "Rahul\n",
    "->English 80\n",
    "-> Math 85\n",
    "-> Science 90\n",
    "-> Total Marks 255"
   ]
  },
  {
   "cell_type": "code",
   "execution_count": 55,
   "metadata": {},
   "outputs": [
    {
     "name": "stdout",
     "output_type": "stream",
     "text": [
      "{'Alex': {'English': 85, 'Math': 90, 'Science': 78}, 'Rahul': {'English': 80, 'Maths': 85, 'Science': 90}}\n"
     ]
    }
   ],
   "source": [
    "reports = {\n",
    "    'Alex' : {\n",
    "        'English' : 85,\n",
    "        'Math'  : 90,\n",
    "        'Science' : 78\n",
    "    },\n",
    "    'Rahul' : {\n",
    "        'English' : 80,\n",
    "        'Maths' : 85,\n",
    "        'Science' : 90\n",
    "    },\n",
    "}\n",
    "print(reports)"
   ]
  },
  {
   "cell_type": "code",
   "execution_count": 56,
   "metadata": {},
   "outputs": [
    {
     "name": "stdout",
     "output_type": "stream",
     "text": [
      "Alex\n",
      "-> English 85\n",
      "-> Math 90\n",
      "-> Science 78\n",
      "-> Total Marks :  253\n",
      "Rahul\n",
      "-> English 80\n",
      "-> Maths 85\n",
      "-> Science 90\n",
      "-> Total Marks :  255\n"
     ]
    }
   ],
   "source": [
    "for student,marks in reports.items():\n",
    "    print(student)\n",
    "    for subject,mark in marks.items():\n",
    "        print('->',subject,mark)\n",
    "    print('-> Total Marks : ', sum(marks.values()))"
   ]
  }
 ],
 "metadata": {
  "kernelspec": {
   "display_name": "base",
   "language": "python",
   "name": "python3"
  },
  "language_info": {
   "codemirror_mode": {
    "name": "ipython",
    "version": 3
   },
   "file_extension": ".py",
   "mimetype": "text/x-python",
   "name": "python",
   "nbconvert_exporter": "python",
   "pygments_lexer": "ipython3",
   "version": "3.12.4"
  }
 },
 "nbformat": 4,
 "nbformat_minor": 2
}
