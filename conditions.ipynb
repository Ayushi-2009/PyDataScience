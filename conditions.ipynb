{
 "cells": [
  {
   "cell_type": "markdown",
   "metadata": {},
   "source": [
    "# conditions in python\n",
    "\n",
    "- block of code\n",
    "    -'if', 'else',' elif', 'while', 'for', 'try', 'except', 'finally', 'with',' def', 'class'\n",
    "- if condition\n",
    "- if else condition\n",
    "- if elif ladder\n",
    "- nested if else\n",
    "- short hand if else\n",
    "- match case"
   ]
  },
  {
   "cell_type": "code",
   "execution_count": 2,
   "metadata": {},
   "outputs": [
    {
     "name": "stdout",
     "output_type": "stream",
     "text": [
      "bye\n"
     ]
    }
   ],
   "source": [
    "a = -3\n",
    "if a > 5:\n",
    "    print(\"a is greater than 5\")\n",
    "    print('hi')\n",
    "print('bye')"
   ]
  },
  {
   "cell_type": "code",
   "execution_count": 4,
   "metadata": {},
   "outputs": [
    {
     "name": "stdout",
     "output_type": "stream",
     "text": [
      "very good, you know how to type long words 😛\n"
     ]
    }
   ],
   "source": [
    "word = input('enter a long word')\n",
    "if len(word) > 10:\n",
    "    print(\"very good, you know how to type long words 😛\")"
   ]
  },
  {
   "cell_type": "code",
   "execution_count": 10,
   "metadata": {},
   "outputs": [
    {
     "name": "stdout",
     "output_type": "stream",
     "text": [
      "not 100\n"
     ]
    }
   ],
   "source": [
    "n = [12,21,32,4]\n",
    "#print(len(n))\n",
    "if sum(n) > 100:\n",
    "    print(\"yay 100\")\n",
    "else:\n",
    "    print(\"not 100\")"
   ]
  },
  {
   "cell_type": "code",
   "execution_count": 4,
   "metadata": {},
   "outputs": [
    {
     "name": "stdout",
     "output_type": "stream",
     "text": [
      "Grade is B\n"
     ]
    }
   ],
   "source": [
    "#if elif ladder\n",
    "marks = 79\n",
    "if marks > 85:\n",
    "    grade = 'A'\n",
    "elif marks >70:\n",
    "    grade = 'B'\n",
    "elif marks > 60:\n",
    "    grade = 'C'\n",
    "elif marks > 50:\n",
    "    grade = 'D'\n",
    "else:\n",
    "    grade = 'F'\n",
    "print(f\"Grade is {grade}\")"
   ]
  },
  {
   "cell_type": "code",
   "execution_count": 6,
   "metadata": {},
   "outputs": [
    {
     "name": "stdout",
     "output_type": "stream",
     "text": [
      "B 22 is the largest\n"
     ]
    }
   ],
   "source": [
    "#find the largest number\n",
    "a, b, c = 10 , 22 ,14\n",
    "if a > b and a > c:\n",
    "    print(f\" A {a} is the largest\")\n",
    "elif b > a and b > c:\n",
    "    print(f\"B {b} is the largest\")\n",
    "else:\n",
    "    print(f\"C {c} is the largest\")"
   ]
  },
  {
   "cell_type": "code",
   "execution_count": 9,
   "metadata": {},
   "outputs": [
    {
     "name": "stdout",
     "output_type": "stream",
     "text": [
      "Welcome admin\n"
     ]
    }
   ],
   "source": [
    "#nested if else\n",
    "un = input(\"Enter a username\")\n",
    "pw = input(\"Enter a password\")\n",
    "if un and pw :                      #if un and pw are not empty\n",
    "    if un == 'admin':               # if un is admin\n",
    "        if pw == 'admin':           #if pw is admin\n",
    "            print(\"Welcome admin\")  #print welcome\n",
    "        else:                       #if pw is not admin\n",
    "            print(\"Wrong Password\")  #print wrong pw\n",
    "    else:                                   #if un is not admin\n",
    "        print(\"Invalid Username\")           #print invalid username\n",
    "else:                                       #if un and pw are empty\n",
    "    print(\"Enter valid details\")                #print enter valid details"
   ]
  },
  {
   "cell_type": "code",
   "execution_count": 14,
   "metadata": {},
   "outputs": [
    {
     "name": "stdout",
     "output_type": "stream",
     "text": [
      "✅✅\n",
      "✅✅\n"
     ]
    }
   ],
   "source": [
    "#short hand if else\n",
    "a = 10\n",
    "# if a >= 10:\n",
    "#     print(\"✅✅✅\")\n",
    "# else:\n",
    "#     print(\"❌❌❌\")\n",
    "print(\"✅✅\") if a>=10 else print(\"❌❌\")\n",
    "print(\"✅✅\" if a>=10 else \"❌❌\")"
   ]
  },
  {
   "cell_type": "code",
   "execution_count": 16,
   "metadata": {},
   "outputs": [
    {
     "name": "stdout",
     "output_type": "stream",
     "text": [
      "What would you like to eat\n",
      "Menu\n",
      "1. Pizza\n",
      "2. Burger\n",
      "3. Pasta\n",
      "4. Sandwich\n",
      "Enter a number: \n",
      "You have ordered Pasta \n",
      " total amt = 299\n"
     ]
    }
   ],
   "source": [
    "# match case (not similar to switch case)\n",
    "print(\"What would you like to eat\")\n",
    "print(\"Menu\")\n",
    "print(\"1. Pizza\")\n",
    "print(\"2. Burger\")\n",
    "print(\"3. Pasta\")\n",
    "print(\"4. Sandwich\")\n",
    "print(\"Enter a number: \")\n",
    "ch = int(input(\">>>\"))\n",
    "match ch:\n",
    "    case 1:\n",
    "        print(\"You have ordered pizza \\n total amt = 400\")\n",
    "    case 2:\n",
    "        print(\"You have ordered burger \\n total amt = 199\")\n",
    "    case 3:\n",
    "        print(\"You have ordered Pasta \\n total amt = 299\")\n",
    "    case 4:\n",
    "        print(\"You have ordered Sandwich \\n total amt = 299\")\n",
    "    case _:\n",
    "        print(\"Invalid choice\")"
   ]
  },
  {
   "cell_type": "code",
   "execution_count": 17,
   "metadata": {},
   "outputs": [
    {
     "name": "stdout",
     "output_type": "stream",
     "text": [
      "What would you like to eat\n",
      "Menu\n",
      "1. Pizza\n",
      "2. Burger\n",
      "3. Pasta\n",
      "4. Sandwich\n",
      "Enter a number: \n",
      "You have ordered sandwich \n",
      " total amt = 200\n"
     ]
    }
   ],
   "source": [
    "# match case (not similar to switch case)\n",
    "print(\"What would you like to eat\")\n",
    "print(\"Menu\")\n",
    "print(\"1. Pizza\")\n",
    "print(\"2. Burger\")\n",
    "print(\"3. Pasta\")\n",
    "print(\"4. Sandwich\")\n",
    "print(\"Enter a number: \")\n",
    "ch = int(input(\">>>\"))\n",
    "if ch == 1:\n",
    "    print(\"You have ordered pizza \\n total amt = 400\")\n",
    "elif ch == 2:\n",
    "    print(\"You have ordered burger \\n total amt = 300\")\n",
    "elif ch == 3:\n",
    "    print(\"You have ordered pasta \\n total amt = 500\")\n",
    "elif ch == 4:\n",
    "    print(\"You have ordered sandwich \\n total amt = 200\")\n",
    "else:\n",
    "    print(\"Invalid choice\")"
   ]
  }
 ],
 "metadata": {
  "kernelspec": {
   "display_name": "base",
   "language": "python",
   "name": "python3"
  },
  "language_info": {
   "codemirror_mode": {
    "name": "ipython",
    "version": 3
   },
   "file_extension": ".py",
   "mimetype": "text/x-python",
   "name": "python",
   "nbconvert_exporter": "python",
   "pygments_lexer": "ipython3",
   "version": "3.12.4"
  }
 },
 "nbformat": 4,
 "nbformat_minor": 2
}
