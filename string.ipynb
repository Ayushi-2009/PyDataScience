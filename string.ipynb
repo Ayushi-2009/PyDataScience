{
 "cells": [
  {
   "cell_type": "code",
   "execution_count": 4,
   "metadata": {},
   "outputs": [
    {
     "name": "stdout",
     "output_type": "stream",
     "text": [
      "l\n",
      "W\n"
     ]
    }
   ],
   "source": [
    "txt = \"Hello World\"\n",
    "print(txt[3])\n",
    "print(txt[6])"
   ]
  },
  {
   "cell_type": "code",
   "execution_count": 6,
   "metadata": {},
   "outputs": [
    {
     "name": "stdout",
     "output_type": "stream",
     "text": [
      "lo Wo\n"
     ]
    }
   ],
   "source": [
    "print(txt[3:8])"
   ]
  },
  {
   "cell_type": "code",
   "execution_count": null,
   "metadata": {},
   "outputs": [],
   "source": [
    "#String Concatentnation\n",
    "a = \"2\"\n",
    "b = \"3\"\n",
    "print(a+b)"
   ]
  },
  {
   "cell_type": "code",
   "execution_count": 8,
   "metadata": {},
   "outputs": [
    {
     "name": "stdout",
     "output_type": "stream",
     "text": [
      "HeyHeyHeyHeyHey\n"
     ]
    }
   ],
   "source": [
    "#String Duplication\n",
    "word = \"Hey\"\n",
    "print(word * 5)"
   ]
  },
  {
   "cell_type": "code",
   "execution_count": 10,
   "metadata": {},
   "outputs": [
    {
     "data": {
      "text/plain": [
       "'BEAUTIFUL'"
      ]
     },
     "execution_count": 10,
     "metadata": {},
     "output_type": "execute_result"
    }
   ],
   "source": [
    "x = \"Beautiful\"\n",
    "print(x.upper())\n",
    "print(x.lower())\n"
   ]
  },
  {
   "cell_type": "code",
   "execution_count": 11,
   "metadata": {},
   "outputs": [
    {
     "data": {
      "text/plain": [
       "'Beautiful'"
      ]
     },
     "execution_count": 11,
     "metadata": {},
     "output_type": "execute_result"
    }
   ],
   "source": [
    "x.capitalize()"
   ]
  },
  {
   "cell_type": "code",
   "execution_count": 13,
   "metadata": {},
   "outputs": [
    {
     "data": {
      "text/plain": [
       "['You', 'are', 'Fool']"
      ]
     },
     "execution_count": 13,
     "metadata": {},
     "output_type": "execute_result"
    }
   ],
   "source": [
    "a = \"You are Fool\"\n",
    "a.split() #gives output in list "
   ]
  },
  {
   "cell_type": "code",
   "execution_count": 23,
   "metadata": {},
   "outputs": [
    {
     "name": "stdout",
     "output_type": "stream",
     "text": [
      "Johnny Johnny yes papa \n",
      "eating sugar no papa\n",
      "telling lies no papa \n",
      "open your mouth ha ha ha\n"
     ]
    }
   ],
   "source": [
    "poem = '''Johnny Johnny yes papa \n",
    "eating sugar no papa\n",
    "telling lies no papa \n",
    "open your mouth ha ha ha''' # use ''' for multiline string\n",
    "print(poem)"
   ]
  },
  {
   "cell_type": "code",
   "execution_count": 17,
   "metadata": {},
   "outputs": [
    {
     "data": {
      "text/plain": [
       "3"
      ]
     },
     "execution_count": 17,
     "metadata": {},
     "output_type": "execute_result"
    }
   ],
   "source": [
    "poem.count(\"i\") #counts number of times i has appeared in string"
   ]
  },
  {
   "cell_type": "code",
   "execution_count": 24,
   "metadata": {},
   "outputs": [
    {
     "data": {
      "text/plain": [
       "['Johnny Johnny yes papa ',\n",
       " 'eating sugar no papa',\n",
       " 'telling lies no papa ',\n",
       " 'open your mouth ha ha ha']"
      ]
     },
     "execution_count": 24,
     "metadata": {},
     "output_type": "execute_result"
    }
   ],
   "source": [
    "poem.splitlines() # splits a line "
   ]
  },
  {
   "cell_type": "code",
   "execution_count": 28,
   "metadata": {},
   "outputs": [
    {
     "name": "stdout",
     "output_type": "stream",
     "text": [
      "Ramu Ramu yes mama \n",
      "eating poison no mama\n",
      "telling lies no mama \n",
      "open your mouth bhk bhk bhk\n"
     ]
    }
   ],
   "source": [
    "b = poem.replace('papa','mama').replace('Johnny',\"Ramu\").replace('sugar','poison').replace('ha ha ha','bhk bhk bhk')\n",
    "print(b)"
   ]
  },
  {
   "cell_type": "code",
   "execution_count": 33,
   "metadata": {},
   "outputs": [
    {
     "name": "stdout",
     "output_type": "stream",
     "text": [
      "C:/Users/Lenevo/Documents\n"
     ]
    }
   ],
   "source": [
    "path = ['C:','Users','Lenevo','Documents']\n",
    "print('/'.join(path))"
   ]
  }
 ],
 "metadata": {
  "kernelspec": {
   "display_name": "base",
   "language": "python",
   "name": "python3"
  },
  "language_info": {
   "codemirror_mode": {
    "name": "ipython",
    "version": 3
   },
   "file_extension": ".py",
   "mimetype": "text/x-python",
   "name": "python",
   "nbconvert_exporter": "python",
   "pygments_lexer": "ipython3",
   "version": "3.12.4"
  }
 },
 "nbformat": 4,
 "nbformat_minor": 2
}
