{
 "cells": [
  {
   "cell_type": "markdown",
   "metadata": {},
   "source": [
    "# Python dictionary is an ordered collecetiond of items\n",
    "- Each item of a dictionaryhas a key/value pair\n",
    "-Dictionaries are optimized to retrieve values when the key is known\n",
    "- (key:value)\n"
   ]
  },
  {
   "cell_type": "code",
   "execution_count": null,
   "metadata": {},
   "outputs": [],
   "source": [
    "#dictionary with integer keys\n",
    "my_dict = {1:'apple',2:'ball'}"
   ]
  },
  {
   "cell_type": "code",
   "execution_count": 3,
   "metadata": {},
   "outputs": [
    {
     "name": "stdout",
     "output_type": "stream",
     "text": [
      "Jack\n",
      "26\n",
      "None\n"
     ]
    }
   ],
   "source": [
    "#Accessing Elements from Dictionary\n",
    "# get vs [] for retrieving elements\n",
    "my_dict = {'name':\"Jack\",'age':26}\n",
    "print(my_dict['name'])\n",
    "print(my_dict.get('age'))\n",
    "\n",
    "#Trying to access keys which doesn't exist throws error\n",
    "#print(my_dict['address'])\n",
    "\n",
    "#use get() for key extraction\n",
    "print(my_dict.get('address'))"
   ]
  },
  {
   "cell_type": "code",
   "execution_count": 6,
   "metadata": {},
   "outputs": [
    {
     "name": "stdout",
     "output_type": "stream",
     "text": [
      "{'name': 'Jack', 'age': 27}\n",
      "{'name': 'Jack', 'age': 27, 'address': 'Downtown'}\n"
     ]
    }
   ],
   "source": [
    "#Modifying Elements from Dictionary\n",
    "#update value\n",
    "my_dict['age'] = 27\n",
    "print(my_dict)\n",
    "\n",
    "#add item\n",
    "my_dict['address'] = 'Downtown'\n",
    "print(my_dict)"
   ]
  },
  {
   "cell_type": "code",
   "execution_count": 11,
   "metadata": {},
   "outputs": [
    {
     "name": "stdout",
     "output_type": "stream",
     "text": [
      "16\n",
      "(5, 25)\n"
     ]
    }
   ],
   "source": [
    "#Removing elements from Dictionary\n",
    "squares = {1:1,2:4,3:9,4:16,5:25}\n",
    "\n",
    "#removing a particular item,returns its value\n",
    "print(squares.pop(4))\n",
    "\n",
    "#remove an arbitrary item,return(key,value)\n",
    "print(squares.popitem())\n",
    "\n",
    "#remove all items\n",
    "squares.clear()\n",
    "\n",
    "#delete the dictionary itself\n",
    "del squares"
   ]
  },
  {
   "cell_type": "code",
   "execution_count": 17,
   "metadata": {},
   "outputs": [
    {
     "name": "stdout",
     "output_type": "stream",
     "text": [
      "1\n",
      "2\n",
      "3\n",
      "4\n",
      "5\n"
     ]
    }
   ],
   "source": [
    "#Iterating Through Dictionary\n",
    "#create a dictionary\n",
    "squares = {1:1,2:4,3:9,4:16,5:25}\n",
    "\n",
    "#only keys\n",
    "for i in squares:\n",
    "    print(i)"
   ]
  },
  {
   "cell_type": "code",
   "execution_count": 15,
   "metadata": {},
   "outputs": [
    {
     "name": "stdout",
     "output_type": "stream",
     "text": [
      "1\n",
      "4\n",
      "9\n",
      "16\n",
      "25\n"
     ]
    }
   ],
   "source": [
    "#only values using i as key\n",
    "for i in squares:\n",
    "    print(squares[i])"
   ]
  },
  {
   "cell_type": "code",
   "execution_count": 18,
   "metadata": {},
   "outputs": [
    {
     "name": "stdout",
     "output_type": "stream",
     "text": [
      "1 1\n",
      "2 4\n",
      "3 9\n",
      "4 16\n",
      "5 25\n"
     ]
    }
   ],
   "source": [
    "#using items() function to get both key and value\n",
    "for k,v in squares.items():\n",
    "    print(k,v)"
   ]
  },
  {
   "cell_type": "markdown",
   "metadata": {},
   "source": [
    "# create a dictionary for storing students report which contains students marks in different subjects for five different students"
   ]
  },
  {
   "cell_type": "code",
   "execution_count": 21,
   "metadata": {},
   "outputs": [],
   "source": [
    "Ayushi = {'Physics':79,'Chemistry':78,'Maths':88}\n",
    "Vivek = {'Physics':88,'Chemistry':56,'Maths':97}\n",
    "Saumya = {'Physics':39,'Chemistry':68,'Maths':98}\n",
    "Ananya = {'Physics':87,'Chemistry':98,'Maths':90}\n",
    "Aradhya = {'Physics':49,'Chemistry':77,'Maths':58}"
   ]
  },
  {
   "cell_type": "code",
   "execution_count": null,
   "metadata": {},
   "outputs": [],
   "source": []
  }
 ],
 "metadata": {
  "kernelspec": {
   "display_name": "base",
   "language": "python",
   "name": "python3"
  },
  "language_info": {
   "codemirror_mode": {
    "name": "ipython",
    "version": 3
   },
   "file_extension": ".py",
   "mimetype": "text/x-python",
   "name": "python",
   "nbconvert_exporter": "python",
   "pygments_lexer": "ipython3",
   "version": "3.12.4"
  }
 },
 "nbformat": 4,
 "nbformat_minor": 2
}
