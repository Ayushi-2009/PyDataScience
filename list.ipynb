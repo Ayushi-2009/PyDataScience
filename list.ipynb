{
 "cells": [
  {
   "cell_type": "code",
   "execution_count": 39,
   "metadata": {},
   "outputs": [
    {
     "name": "stdout",
     "output_type": "stream",
     "text": [
      "['Whatsapp', 'Snapchat', 'Instagram', 'Facebook', 'Spotify', 'YouTube', 'Swiggy', 'Nykaa', 'Myntra', 'Calculator']\n"
     ]
    }
   ],
   "source": [
    "apps = ['Whatsapp', 'Snapchat','Instagram','Facebook','Spotify','YouTube','Swiggy','Nykaa','Myntra','Calculator']\n",
    "print(apps)"
   ]
  },
  {
   "cell_type": "code",
   "execution_count": 40,
   "metadata": {},
   "outputs": [
    {
     "name": "stdout",
     "output_type": "stream",
     "text": [
      "YouTube\n",
      "Swiggy\n",
      "Facebook\n",
      "Swiggy\n"
     ]
    }
   ],
   "source": [
    "print(apps[5])\n",
    "print(apps[6])\n",
    "print(apps[-7])\n",
    "print(apps[-4])"
   ]
  },
  {
   "cell_type": "markdown",
   "metadata": {},
   "source": [
    "# Slicing \n",
    "- use of ':' "
   ]
  },
  {
   "cell_type": "code",
   "execution_count": 41,
   "metadata": {},
   "outputs": [
    {
     "name": "stdout",
     "output_type": "stream",
     "text": [
      "[['Whatsapp', 'Snapchat', 'Instagram', 'Facebook']]\n",
      "[['Whatsapp', 'Instagram', 'Spotify', 'Swiggy', 'Myntra']]\n",
      "['Whatsapp', 'Snapchat', 'Instagram', 'Facebook', 'Spotify']\n",
      "['YouTube', 'Swiggy', 'Nykaa', 'Myntra', 'Calculator']\n",
      "['Whatsapp', 'Snapchat', 'Instagram', 'Facebook', 'Spotify', 'YouTube', 'Swiggy', 'Nykaa', 'Myntra', 'Calculator']\n",
      "['Whatsapp', 'Instagram', 'Spotify', 'Swiggy', 'Myntra']\n"
     ]
    }
   ],
   "source": [
    "print([apps[0:4]])\n",
    "print([apps[0:10:2]])\n",
    "print(apps[:5])\n",
    "print(apps[5:])\n",
    "print(apps[:])\n",
    "print(apps[::2])"
   ]
  },
  {
   "cell_type": "markdown",
   "metadata": {},
   "source": [
    "# Function\n",
    "- reuseable\n",
    "- block of code\n",
    "- user defined or built in\n",
    "- can be called by name\n"
   ]
  },
  {
   "cell_type": "code",
   "execution_count": 42,
   "metadata": {},
   "outputs": [
    {
     "name": "stdout",
     "output_type": "stream",
     "text": [
      "['Whatsapp', 'Snapchat', 'Instagram', 'Facebook', 'Spotify', 'YouTube', 'Swiggy', 'Nykaa', 'Myntra', 'Calculator']\n"
     ]
    }
   ],
   "source": [
    "print(apps)"
   ]
  },
  {
   "cell_type": "code",
   "execution_count": 43,
   "metadata": {},
   "outputs": [
    {
     "name": "stdout",
     "output_type": "stream",
     "text": [
      "['Whatsapp', 'Snapchat', ' Tinder', 'Instagram', 'Facebook', 'Spotify', 'YouTube', 'Swiggy', 'Nykaa', 'Myntra', 'Calculator']\n"
     ]
    }
   ],
   "source": [
    "apps.insert(2,' Tinder')\n",
    "print(apps)"
   ]
  },
  {
   "cell_type": "code",
   "execution_count": 44,
   "metadata": {},
   "outputs": [
    {
     "name": "stdout",
     "output_type": "stream",
     "text": [
      "['Whatsapp', 'Snapchat', ' Tinder', 'Facebook', 'Spotify', 'YouTube', 'Swiggy', 'Nykaa', 'Myntra', 'Calculator']\n"
     ]
    }
   ],
   "source": [
    "apps.pop(3)\n",
    "print(apps)"
   ]
  },
  {
   "cell_type": "code",
   "execution_count": 45,
   "metadata": {},
   "outputs": [
    {
     "name": "stdout",
     "output_type": "stream",
     "text": [
      "['Whatsapp', 'Snapchat', ' Tinder', 'Facebook', 'Spotify', 'YouTube', 'Swiggy', 'Myntra', 'Calculator']\n"
     ]
    }
   ],
   "source": [
    "apps.remove('Nykaa')\n",
    "print(apps)"
   ]
  },
  {
   "cell_type": "code",
   "execution_count": 46,
   "metadata": {},
   "outputs": [
    {
     "name": "stdout",
     "output_type": "stream",
     "text": [
      "[' Tinder', 'Calculator', 'Facebook', 'Myntra', 'Snapchat', 'Spotify', 'Swiggy', 'Whatsapp', 'YouTube']\n"
     ]
    }
   ],
   "source": [
    "apps.sort()\n",
    "print(apps)"
   ]
  },
  {
   "cell_type": "code",
   "execution_count": 47,
   "metadata": {},
   "outputs": [
    {
     "name": "stdout",
     "output_type": "stream",
     "text": [
      "[' Tinder', 'Calculator', 'Facebook', 'Myntra', 'Snapchat', 'Spotify', 'Swiggy', 'Whatsapp', 'YouTube']\n"
     ]
    }
   ],
   "source": [
    "apps2 = apps.copy()\n",
    "print(apps2)"
   ]
  },
  {
   "cell_type": "code",
   "execution_count": 48,
   "metadata": {},
   "outputs": [
    {
     "name": "stdout",
     "output_type": "stream",
     "text": [
      "[' Tinder', 'Calculator', 'Facebook', 'Myntra', 'Snapchat', 'Spotify', 'Swiggy', 'Whatsapp', 'YouTube']\n"
     ]
    }
   ],
   "source": [
    "apps.clear()\n",
    "print(apps2)"
   ]
  },
  {
   "cell_type": "code",
   "execution_count": 51,
   "metadata": {},
   "outputs": [
    {
     "name": "stdout",
     "output_type": "stream",
     "text": [
      "[' Tinder', 'Calculator', 'Facebook', 'Myntra', 'Snapchat', 'Spotify', 'Swiggy', 'Whatsapp', 'YouTube', 'Gpay', 'Camera', 'maps', 'Gpay', 'Camera', 'maps', 'Gpay', 'Camera', 'maps']\n"
     ]
    }
   ],
   "source": [
    "apps3 = ['Gpay', 'Camera','maps']\n",
    "apps2.extend(apps3)\n",
    "print(apps2)"
   ]
  },
  {
   "cell_type": "code",
   "execution_count": 52,
   "metadata": {},
   "outputs": [
    {
     "name": "stdout",
     "output_type": "stream",
     "text": [
      "[' Tinder', 'Calculator', 'Facebook', 'Myntra', 'Snapchat', 'Spotify', 'Swiggy', 'Whatsapp', 'YouTube', 'Gpay', 'Camera', 'maps', 'Gpay', 'Camera', 'maps', 'Gpay', 'Camera', 'maps']\n"
     ]
    }
   ],
   "source": [
    "apps3 = ['Gpay', 'Camera','maps']\n",
    "apps3.extend(apps2)\n",
    "print(apps2)"
   ]
  },
  {
   "cell_type": "markdown",
   "metadata": {},
   "source": [
    "# List Comprehension\n",
    "- compresses the code\n",
    "- works only for list"
   ]
  },
  {
   "cell_type": "code",
   "execution_count": 2,
   "metadata": {},
   "outputs": [
    {
     "name": "stdout",
     "output_type": "stream",
     "text": [
      "4\n",
      "16\n",
      "36\n",
      "64\n",
      "100\n"
     ]
    }
   ],
   "source": [
    "a = [2,4,6,8,10]\n",
    "for i in a:\n",
    "    print(i**2)"
   ]
  },
  {
   "cell_type": "code",
   "execution_count": 4,
   "metadata": {},
   "outputs": [
    {
     "name": "stdout",
     "output_type": "stream",
     "text": [
      "[2, 4, 6, 8, 10]\n",
      "[4, 16, 36, 64, 100]\n"
     ]
    }
   ],
   "source": [
    "a = [2,4,6,8,10]\n",
    "print(a)\n",
    "lst = []\n",
    "for i in a:\n",
    "    lst.append(i**2)\n",
    "print(lst)"
   ]
  },
  {
   "cell_type": "code",
   "execution_count": 5,
   "metadata": {},
   "outputs": [
    {
     "name": "stdout",
     "output_type": "stream",
     "text": [
      "[4, 16, 36, 64, 100]\n"
     ]
    }
   ],
   "source": [
    "num = [2,4,6,8,10]\n",
    "square = [i**2 for i in num] #list comprehension\n",
    "print(square)"
   ]
  },
  {
   "cell_type": "code",
   "execution_count": 6,
   "metadata": {},
   "outputs": [
    {
     "name": "stdout",
     "output_type": "stream",
     "text": [
      "[4, 8, 50, 10, 34, 54, 12]\n"
     ]
    }
   ],
   "source": [
    "x = [1,4,3,5,7,5,8,50,10,34,23,54,12]\n",
    "even_nums = [num for num in x if num % 2 == 0]\n",
    "print(even_nums)"
   ]
  },
  {
   "cell_type": "code",
   "execution_count": 19,
   "metadata": {},
   "outputs": [
    {
     "name": "stdout",
     "output_type": "stream",
     "text": [
      "['apple', 'banana', 'cherry', 'mango', 'peach', 'plum', 'kiwi']\n"
     ]
    }
   ],
   "source": [
    "fruits = ['apple','banana','cherry','dragaon_fruit','strawberry','watermelon','muskmelon','mango','peach','plum','kiwi']\n",
    "fruits1 = [x for x in fruits if len(x) <= 6]\n",
    "print(fruits1)"
   ]
  },
  {
   "cell_type": "code",
   "execution_count": 12,
   "metadata": {},
   "outputs": [
    {
     "name": "stdout",
     "output_type": "stream",
     "text": [
      "['HELLO', 'MY', 'NAME', 'IS', 'JOY']\n"
     ]
    }
   ],
   "source": [
    "words = ['hello','my','name', 'is' , 'joy']\n",
    "lst = [i.upper() for i in words]\n",
    "print(lst)"
   ]
  }
 ],
 "metadata": {
  "kernelspec": {
   "display_name": "base",
   "language": "python",
   "name": "python3"
  },
  "language_info": {
   "codemirror_mode": {
    "name": "ipython",
    "version": 3
   },
   "file_extension": ".py",
   "mimetype": "text/x-python",
   "name": "python",
   "nbconvert_exporter": "python",
   "pygments_lexer": "ipython3",
   "version": "3.12.4"
  }
 },
 "nbformat": 4,
 "nbformat_minor": 2
}
