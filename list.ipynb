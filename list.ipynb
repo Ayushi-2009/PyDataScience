{
 "cells": [
  {
   "cell_type": "code",
   "execution_count": 1,
   "metadata": {},
   "outputs": [
    {
     "name": "stdout",
     "output_type": "stream",
     "text": [
      "['Whatsapp', 'Snapchat', 'Instagram', 'Facebook', 'Spotify', 'YouTube', 'Swiggy', 'Nykaa', 'Myntra', 'Calculator']\n"
     ]
    }
   ],
   "source": [
    "apps = ['Whatsapp', 'Snapchat','Instagram','Facebook','Spotify','YouTube','Swiggy','Nykaa','Myntra','Calculator']\n",
    "print(apps)"
   ]
  },
  {
   "cell_type": "code",
   "execution_count": 5,
   "metadata": {},
   "outputs": [
    {
     "name": "stdout",
     "output_type": "stream",
     "text": [
      "YouTube\n",
      "Swiggy\n",
      "Facebook\n",
      "Swiggy\n"
     ]
    }
   ],
   "source": [
    "print(apps[5])\n",
    "print(apps[6])\n",
    "print(apps[-7])\n",
    "print(apps[-4])"
   ]
  },
  {
   "cell_type": "markdown",
   "metadata": {},
   "source": [
    "# Slicing \n",
    "- use of ':' "
   ]
  },
  {
   "cell_type": "code",
   "execution_count": 13,
   "metadata": {},
   "outputs": [
    {
     "name": "stdout",
     "output_type": "stream",
     "text": [
      "[['Whatsapp', 'Snapchat', 'Instagram', 'Facebook']]\n",
      "[['Whatsapp', 'Instagram', 'Spotify', 'Swiggy', 'Myntra']]\n",
      "['Whatsapp', 'Snapchat', 'Instagram', 'Facebook', 'Spotify']\n",
      "['YouTube', 'Swiggy', 'Nykaa', 'Myntra', 'Calculator']\n",
      "['Whatsapp', 'Snapchat', 'Instagram', 'Facebook', 'Spotify', 'YouTube', 'Swiggy', 'Nykaa', 'Myntra', 'Calculator']\n",
      "['Whatsapp', 'Instagram', 'Spotify', 'Swiggy', 'Myntra']\n"
     ]
    }
   ],
   "source": [
    "print([apps[0:4]])\n",
    "print([apps[0:10:2]])\n",
    "print(apps[:5])\n",
    "print(apps[5:])\n",
    "print(apps[:])\n",
    "print(apps[::2])"
   ]
  },
  {
   "cell_type": "code",
   "execution_count": null,
   "metadata": {},
   "outputs": [],
   "source": []
  }
 ],
 "metadata": {
  "kernelspec": {
   "display_name": "base",
   "language": "python",
   "name": "python3"
  },
  "language_info": {
   "codemirror_mode": {
    "name": "ipython",
    "version": 3
   },
   "file_extension": ".py",
   "mimetype": "text/x-python",
   "name": "python",
   "nbconvert_exporter": "python",
   "pygments_lexer": "ipython3",
   "version": "3.12.4"
  }
 },
 "nbformat": 4,
 "nbformat_minor": 2
}
