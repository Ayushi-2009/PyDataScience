{
 "cells": [
  {
   "cell_type": "code",
   "execution_count": 39,
   "metadata": {},
   "outputs": [
    {
     "name": "stdout",
     "output_type": "stream",
     "text": [
      "['Whatsapp', 'Snapchat', 'Instagram', 'Facebook', 'Spotify', 'YouTube', 'Swiggy', 'Nykaa', 'Myntra', 'Calculator']\n"
     ]
    }
   ],
   "source": [
    "apps = ['Whatsapp', 'Snapchat','Instagram','Facebook','Spotify','YouTube','Swiggy','Nykaa','Myntra','Calculator']\n",
    "print(apps)"
   ]
  },
  {
   "cell_type": "code",
   "execution_count": 40,
   "metadata": {},
   "outputs": [
    {
     "name": "stdout",
     "output_type": "stream",
     "text": [
      "YouTube\n",
      "Swiggy\n",
      "Facebook\n",
      "Swiggy\n"
     ]
    }
   ],
   "source": [
    "print(apps[5])\n",
    "print(apps[6])\n",
    "print(apps[-7])\n",
    "print(apps[-4])"
   ]
  },
  {
   "cell_type": "markdown",
   "metadata": {},
   "source": [
    "# Slicing \n",
    "- use of ':' "
   ]
  },
  {
   "cell_type": "code",
   "execution_count": 41,
   "metadata": {},
   "outputs": [
    {
     "name": "stdout",
     "output_type": "stream",
     "text": [
      "[['Whatsapp', 'Snapchat', 'Instagram', 'Facebook']]\n",
      "[['Whatsapp', 'Instagram', 'Spotify', 'Swiggy', 'Myntra']]\n",
      "['Whatsapp', 'Snapchat', 'Instagram', 'Facebook', 'Spotify']\n",
      "['YouTube', 'Swiggy', 'Nykaa', 'Myntra', 'Calculator']\n",
      "['Whatsapp', 'Snapchat', 'Instagram', 'Facebook', 'Spotify', 'YouTube', 'Swiggy', 'Nykaa', 'Myntra', 'Calculator']\n",
      "['Whatsapp', 'Instagram', 'Spotify', 'Swiggy', 'Myntra']\n"
     ]
    }
   ],
   "source": [
    "print([apps[0:4]])\n",
    "print([apps[0:10:2]])\n",
    "print(apps[:5])\n",
    "print(apps[5:])\n",
    "print(apps[:])\n",
    "print(apps[::2])"
   ]
  },
  {
   "cell_type": "markdown",
   "metadata": {},
   "source": [
    "# Function\n",
    "- reuseable\n",
    "- block of code\n",
    "- user defined or built in\n",
    "- can be called by name\n"
   ]
  },
  {
   "cell_type": "code",
   "execution_count": 42,
   "metadata": {},
   "outputs": [
    {
     "name": "stdout",
     "output_type": "stream",
     "text": [
      "['Whatsapp', 'Snapchat', 'Instagram', 'Facebook', 'Spotify', 'YouTube', 'Swiggy', 'Nykaa', 'Myntra', 'Calculator']\n"
     ]
    }
   ],
   "source": [
    "print(apps)"
   ]
  },
  {
   "cell_type": "code",
   "execution_count": 43,
   "metadata": {},
   "outputs": [
    {
     "name": "stdout",
     "output_type": "stream",
     "text": [
      "['Whatsapp', 'Snapchat', ' Tinder', 'Instagram', 'Facebook', 'Spotify', 'YouTube', 'Swiggy', 'Nykaa', 'Myntra', 'Calculator']\n"
     ]
    }
   ],
   "source": [
    "apps.insert(2,' Tinder')\n",
    "print(apps)"
   ]
  },
  {
   "cell_type": "code",
   "execution_count": 44,
   "metadata": {},
   "outputs": [
    {
     "name": "stdout",
     "output_type": "stream",
     "text": [
      "['Whatsapp', 'Snapchat', ' Tinder', 'Facebook', 'Spotify', 'YouTube', 'Swiggy', 'Nykaa', 'Myntra', 'Calculator']\n"
     ]
    }
   ],
   "source": [
    "apps.pop(3)\n",
    "print(apps)"
   ]
  },
  {
   "cell_type": "code",
   "execution_count": 45,
   "metadata": {},
   "outputs": [
    {
     "name": "stdout",
     "output_type": "stream",
     "text": [
      "['Whatsapp', 'Snapchat', ' Tinder', 'Facebook', 'Spotify', 'YouTube', 'Swiggy', 'Myntra', 'Calculator']\n"
     ]
    }
   ],
   "source": [
    "apps.remove('Nykaa')\n",
    "print(apps)"
   ]
  },
  {
   "cell_type": "code",
   "execution_count": 46,
   "metadata": {},
   "outputs": [
    {
     "name": "stdout",
     "output_type": "stream",
     "text": [
      "[' Tinder', 'Calculator', 'Facebook', 'Myntra', 'Snapchat', 'Spotify', 'Swiggy', 'Whatsapp', 'YouTube']\n"
     ]
    }
   ],
   "source": [
    "apps.sort()\n",
    "print(apps)"
   ]
  },
  {
   "cell_type": "code",
   "execution_count": 47,
   "metadata": {},
   "outputs": [
    {
     "name": "stdout",
     "output_type": "stream",
     "text": [
      "[' Tinder', 'Calculator', 'Facebook', 'Myntra', 'Snapchat', 'Spotify', 'Swiggy', 'Whatsapp', 'YouTube']\n"
     ]
    }
   ],
   "source": [
    "apps2 = apps.copy()\n",
    "print(apps2)"
   ]
  },
  {
   "cell_type": "code",
   "execution_count": 48,
   "metadata": {},
   "outputs": [
    {
     "name": "stdout",
     "output_type": "stream",
     "text": [
      "[' Tinder', 'Calculator', 'Facebook', 'Myntra', 'Snapchat', 'Spotify', 'Swiggy', 'Whatsapp', 'YouTube']\n"
     ]
    }
   ],
   "source": [
    "apps.clear()\n",
    "print(apps2)"
   ]
  },
  {
   "cell_type": "code",
   "execution_count": 51,
   "metadata": {},
   "outputs": [
    {
     "name": "stdout",
     "output_type": "stream",
     "text": [
      "[' Tinder', 'Calculator', 'Facebook', 'Myntra', 'Snapchat', 'Spotify', 'Swiggy', 'Whatsapp', 'YouTube', 'Gpay', 'Camera', 'maps', 'Gpay', 'Camera', 'maps', 'Gpay', 'Camera', 'maps']\n"
     ]
    }
   ],
   "source": [
    "apps3 = ['Gpay', 'Camera','maps']\n",
    "apps2.extend(apps3)\n",
    "print(apps2)"
   ]
  },
  {
   "cell_type": "code",
   "execution_count": 52,
   "metadata": {},
   "outputs": [
    {
     "name": "stdout",
     "output_type": "stream",
     "text": [
      "[' Tinder', 'Calculator', 'Facebook', 'Myntra', 'Snapchat', 'Spotify', 'Swiggy', 'Whatsapp', 'YouTube', 'Gpay', 'Camera', 'maps', 'Gpay', 'Camera', 'maps', 'Gpay', 'Camera', 'maps']\n"
     ]
    }
   ],
   "source": [
    "apps3 = ['Gpay', 'Camera','maps']\n",
    "apps3.extend(apps2)\n",
    "print(apps2)"
   ]
  }
 ],
 "metadata": {
  "kernelspec": {
   "display_name": "base",
   "language": "python",
   "name": "python3"
  },
  "language_info": {
   "codemirror_mode": {
    "name": "ipython",
    "version": 3
   },
   "file_extension": ".py",
   "mimetype": "text/x-python",
   "name": "python",
   "nbconvert_exporter": "python",
   "pygments_lexer": "ipython3",
   "version": "3.12.4"
  }
 },
 "nbformat": 4,
 "nbformat_minor": 2
}
